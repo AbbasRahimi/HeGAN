{
 "nbformat": 4,
 "nbformat_minor": 0,
 "metadata": {
  "kernelspec": {
   "display_name": "Python 3",
   "language": "python",
   "name": "python3"
  },
  "language_info": {
   "codemirror_mode": {
    "name": "ipython",
    "version": 3
   },
   "file_extension": ".py",
   "mimetype": "text/x-python",
   "name": "python",
   "nbconvert_exporter": "python",
   "pygments_lexer": "ipython3",
   "version": "3.6.10"
  },
  "pycharm": {
   "stem_cell": {
    "cell_type": "raw",
    "source": [],
    "metadata": {
     "collapsed": false
    }
   }
  },
  "colab": {
   "name": "demo.ipynb",
   "provenance": [],
   "include_colab_link": true
  }
 },
 "cells": [
  {
   "cell_type": "markdown",
   "metadata": {
    "id": "view-in-github",
    "colab_type": "text"
   },
   "source": [
    "<a href=\"https://colab.research.google.com/github/AbbasRahimi/HeGAN/blob/MDE/code/HeGAN_demo.ipynb\" target=\"_parent\"><img src=\"https://colab.research.google.com/assets/colab-badge.svg\" alt=\"Open In Colab\"/></a>"
   ]
  },
  {
   "cell_type": "code",
   "metadata": {
    "pycharm": {
     "name": "#%%\n"
    },
    "id": "0ulMv4-SEWb8",
    "outputId": "d795c891-2d57-4d0c-efcd-8c564ad25a9e",
    "colab": {
     "base_uri": "https://localhost:8080/"
    }
   },
   "source": [
    "!git clone -b testing https://github.com/AbbasRahimi/netgan.git"
   ],
   "execution_count": 1,
   "outputs": [
    {
     "output_type": "stream",
     "text": [
      "Cloning into 'netgan'...\n",
      "remote: Enumerating objects: 295, done.\u001b[K\n",
      "remote: Counting objects: 100% (146/146), done.\u001b[K\n",
      "remote: Compressing objects: 100% (108/108), done.\u001b[K\n",
      "remote: Total 295 (delta 90), reused 73 (delta 38), pack-reused 149\u001b[K\n",
      "Receiving objects: 100% (295/295), 50.76 MiB | 21.87 MiB/s, done.\n",
      "Resolving deltas: 100% (164/164), done.\n"
     ],
     "name": "stdout"
     }
     ]
    }
   }
